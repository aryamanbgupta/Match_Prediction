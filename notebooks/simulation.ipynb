{
 "cells": [
  {
   "cell_type": "code",
   "execution_count": 1,
   "metadata": {},
   "outputs": [],
   "source": [
    "# Kolkata Knight Riders players\n",
    "team1_players = [\n",
    "    \"725529bc\",  # SC Ganguly\n",
    "    \"b8a55852\",  # BB McCullum\n",
    "    \"7d415ea5\",  # RT Ponting\n",
    "    \"fd835ab3\",  # DJ Hussey\n",
    "    \"9ab63e7b\",  # Mohammad Hafeez\n",
    "    \"b1451597\",  # LR Shukla\n",
    "    \"fe11caa6\",  # WP Saha\n",
    "    \"fa463154\",  # AB Agarkar\n",
    "    \"66b30f71\",  # AB Dinda\n",
    "    \"abfeb126\",  # M Kartik\n",
    "    \"5bb1a1c4\"   # I Sharma\n",
    "]\n",
    "\n",
    "# Royal Challengers Bangalore players\n",
    "team2_players = [\n",
    "    \"0184dc35\",  # R Dravid\n",
    "    \"619aa81f\",  # W Jaffer\n",
    "    \"ba607b88\",  # V Kohli\n",
    "    \"86dc8f2e\",  # JH Kallis\n",
    "    \"d0513f63\",  # CL White\n",
    "    \"f3cb53a1\",  # MV Boucher\n",
    "    \"af7dadf7\",  # B Akhil\n",
    "    \"b69e69ed\",  # AA Noffke\n",
    "    \"e938e1bc\",  # P Kumar\n",
    "    \"91a4a398\",  # Z Khan\n",
    "    \"670709ec\"   # SB Joshi\n",
    "]"
   ]
  },
  {
   "cell_type": "code",
   "execution_count": 2,
   "metadata": {},
   "outputs": [],
   "source": [
    "from dataclasses import dataclass\n",
    "from typing import List, Optional\n",
    "from random import choice"
   ]
  },
  {
   "cell_type": "code",
   "execution_count": null,
   "metadata": {},
   "outputs": [],
   "source": [
    "@dataclass\n",
    "class Player:\n",
    "    id: str\n",
    "\n",
    "@dataclass\n",
    "class Team:\n",
    "    players: List[Player]\n",
    "\n",
    "class Match:\n",
    "    def __init__(self, team1_players: List[str], team2_players: List[str], stadium: str):\n",
    "        self.team1 = Team([Player(id=p_id) for p_id in team1_players])\n",
    "        self.team2 = Team([Player(id=p_id) for p_id in team2_players])\n",
    "        self.stadium = stadium\n",
    "        self.current_innings: Optional[Innings] = None\n",
    "        self.first_innings_score: Optional[int] = None\n",
    "\n",
    "class Innings:\n",
    "    def __init__(self,batting_team, bowling_team):\n",
    "        self.score = 0\n",
    "        self.wickets =0\n",
    "        self.striker = batting_team.players[0]\n",
    "        self.non_striker = batting_team.players[1]\n",
    "        self.batters_remaining = batting_team.players[2:]\n",
    "\n",
    "        # Enhanced bowling tracking\n",
    "        self.current_bowler = None\n",
    "        self.bowlers_overs = {player.id: 0 for player in bowling_team.players}  # Track overs per bowler\n",
    "        self.previous_bowlers = []\n",
    "\n",
    "        def select_next_batter(self) -> Optional[Player]:\n",
    "            \"\"\"Simple placeholder to select next batter in order\"\"\"\n",
    "            if not self.batters_remaining:\n",
    "                return None\n",
    "            return self.batters_remaining.pop(0)\n",
    "\n",
    "        def select_next_bowler(self) -> Optional[Player]:\n",
    "            \"\"\"Simple placeholder to select next bowler who hasn't completed quota\"\"\"\n",
    "            available_bowlers = [\n",
    "                player for player in self.bowling_team.players\n",
    "                if self.bowlers_overs[player.id] < 4\n",
    "            ]\n",
    "            return choice(available_bowlers) if available_bowlers else None\n",
    "\n",
    "        "
   ]
  },
  {
   "cell_type": "code",
   "execution_count": null,
   "metadata": {},
   "outputs": [],
   "source": [
    "from enum import Enum\n",
    "class BallOutcome(Enum):\n",
    "    DOT = 0      # 0 runs\n",
    "    SINGLE = 1   # 1 run\n",
    "    DOUBLE = 2   # 2 runs\n",
    "    FOUR = 4     # 4 runs\n",
    "    SIX = 6      # 6 runs\n",
    "    WICKET = 'W' # Wicket"
   ]
  }
 ],
 "metadata": {
  "kernelspec": {
   "display_name": "venv",
   "language": "python",
   "name": "python3"
  },
  "language_info": {
   "codemirror_mode": {
    "name": "ipython",
    "version": 3
   },
   "file_extension": ".py",
   "mimetype": "text/x-python",
   "name": "python",
   "nbconvert_exporter": "python",
   "pygments_lexer": "ipython3",
   "version": "3.9.6"
  }
 },
 "nbformat": 4,
 "nbformat_minor": 2
}
